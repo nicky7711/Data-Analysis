{
 "cells": [
  {
   "cell_type": "code",
   "execution_count": 1,
   "metadata": {
    "collapsed": true
   },
   "outputs": [],
   "source": [
    "import requests\n",
    "from bs4 import *\n",
    "\n",
    "import pandas as pd"
   ]
  },
  {
   "cell_type": "code",
   "execution_count": null,
   "metadata": {},
   "outputs": [],
   "source": [
    "url = \"https://www.trulia.com/CA/San_Francisco/\"\n",
    "r = requests.get(url)\n",
    "soup = BeautifulSoup(r.content, \"html.parser\")"
   ]
  },
  {
   "cell_type": "code",
   "execution_count": null,
   "metadata": {
    "scrolled": false
   },
   "outputs": [],
   "source": [
    "price_list = []\n",
    "beds_list = []\n",
    "baths_list = []\n",
    "sqft_list = []\n",
    "address_list = []\n",
    "city_state_list = []\n",
    "#title_link_list = []\n",
    "\n",
    "price = soup.find_all(\"span\", {\"class\": \"cardPrice\"})\n",
    "beds = soup.find_all(\"li\", {\"data-auto-test\": \"beds\"})\n",
    "baths = soup.find_all(\"li\", {\"data-auto-test\": \"baths\"})\n",
    "sqft = soup.find_all(\"li\", {\"data-auto-test\": \"sqft\"})\n",
    "address = soup.find_all(\"div\", {\"class\": \"mvn\"})\n",
    "city_state = soup.find_all(\"div\", {\"class\": \"pbs\"})\n",
    "#title_link = soup.find_all('a', {\"class\": \"tileLink\"}, href=True)\n",
    "\n",
    "for item in price:\n",
    "    price_list.append(item.text)\n",
    "for item in beds:\n",
    "    beds_list.append(item.text)\n",
    "for item in baths:\n",
    "    baths_list.append(item.text)\n",
    "for item in sqft:\n",
    "    sqft_list.append(item.text)\n",
    "for item in address:\n",
    "    address_list.append(item.text)\n",
    "for item in city_state:\n",
    "    city_state_list.append(item.text)\n",
    "#for item in title_link:\n",
    "#    if \"property\" in item['href'] or \"foreclosure\" in item['href'] or \"builder-community\" in item['href']:\n",
    "#        title_link_list.append(\"https://www.trulia.com\" + item['href'])\n",
    "\n",
    "        \n",
    "for x in range(2, 30):\n",
    "    url = \"https://www.trulia.com/CA/San_Francisco/\" + str(x) + \"_p/\"\n",
    "    r = requests.get(url)\n",
    "    soup = BeautifulSoup(r.content, \"html.parser\")\n",
    "    \n",
    "    price = soup.find_all(\"span\", {\"class\": \"cardPrice\"})\n",
    "    beds = soup.find_all(\"li\", {\"data-auto-test\": \"beds\"})\n",
    "    baths = soup.find_all(\"li\", {\"data-auto-test\": \"baths\"})\n",
    "    sqft = soup.find_all(\"li\", {\"data-auto-test\": \"sqft\"})\n",
    "    address = soup.find_all(\"div\", {\"class\": \"mvn\"})\n",
    "    city_state = soup.find_all(\"div\", {\"class\": \"pbs\"})\n",
    "#    title_link = soup.find_all('a', href=True)\n",
    "\n",
    "    for item in price:\n",
    "        price_list.append(item.text)\n",
    "    for item in beds:\n",
    "        beds_list.append(item.text)\n",
    "    for item in baths:\n",
    "        baths_list.append(item.text)\n",
    "    for item in sqft:\n",
    "        sqft_list.append(item.text)\n",
    "    for item in address:\n",
    "        address_list.append(item.text)\n",
    "    for item in city_state:\n",
    "        city_state_list.append(item.text)\n",
    "#    for item in title_link:\n",
    "#        if \"property\" in item['href'] or \"foreclosure\" in item['href'] or \"builder-community\" in item['href']:\n",
    "#            title_link_list.append(\"https://www.trulia.com\" + item['href'])\n",
    "            \n",
    "            \n",
    "\n",
    "title_link_list = list(set(title_link_list))\n",
    "d = [price_list, beds_list, baths_list, sqft_list, address_list, city_state_list]"
   ]
  },
  {
   "cell_type": "code",
   "execution_count": null,
   "metadata": {},
   "outputs": [],
   "source": [
    "df = pd.DataFrame(d)\n",
    "df = df.transpose()\n",
    "df.columns = ['Price', 'Bedroom', 'Bathroom', 'Square feet', 'Street', 'City/State']\n",
    "len(df)"
   ]
  },
  {
   "cell_type": "code",
   "execution_count": null,
   "metadata": {},
   "outputs": [],
   "source": [
    "df.to_csv('San_Francisco_Real_Estates.csv', index=False)"
   ]
  },
  {
   "cell_type": "code",
   "execution_count": null,
   "metadata": {
    "collapsed": true
   },
   "outputs": [],
   "source": []
  }
 ],
 "metadata": {
  "kernelspec": {
   "display_name": "Python 3",
   "language": "python",
   "name": "python3"
  },
  "language_info": {
   "codemirror_mode": {
    "name": "ipython",
    "version": 3
   },
   "file_extension": ".py",
   "mimetype": "text/x-python",
   "name": "python",
   "nbconvert_exporter": "python",
   "pygments_lexer": "ipython3",
   "version": "3.6.1"
  }
 },
 "nbformat": 4,
 "nbformat_minor": 2
}
