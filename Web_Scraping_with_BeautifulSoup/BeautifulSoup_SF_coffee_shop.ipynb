{
 "cells": [
  {
   "cell_type": "code",
   "execution_count": 1,
   "metadata": {
    "collapsed": true
   },
   "outputs": [],
   "source": [
    "import requests\n",
    "from bs4 import BeautifulSoup\n",
    "import pandas as pd"
   ]
  },
  {
   "cell_type": "code",
   "execution_count": 2,
   "metadata": {
    "collapsed": true
   },
   "outputs": [],
   "source": [
    "url = \"https://www.yellowpages.com/search?search_terms=Coffee&geo_location_terms=San+Francisco%2C+CA\"\n",
    "r = requests.get(url)"
   ]
  },
  {
   "cell_type": "code",
   "execution_count": 3,
   "metadata": {
    "collapsed": true
   },
   "outputs": [],
   "source": [
    "soup = BeautifulSoup(r.content, \"html.parser\")"
   ]
  },
  {
   "cell_type": "code",
   "execution_count": 4,
   "metadata": {
    "collapsed": true
   },
   "outputs": [],
   "source": [
    "# print (soup.prettify())"
   ]
  },
  {
   "cell_type": "code",
   "execution_count": 5,
   "metadata": {
    "collapsed": true
   },
   "outputs": [],
   "source": [
    "# soup.find_all(\"a\")"
   ]
  },
  {
   "cell_type": "code",
   "execution_count": 6,
   "metadata": {
    "collapsed": true
   },
   "outputs": [],
   "source": [
    "# for link in soup.find_all(\"a\"):\n",
    "#     print (link.text, link.get('href'))"
   ]
  },
  {
   "cell_type": "code",
   "execution_count": 7,
   "metadata": {
    "collapsed": true
   },
   "outputs": [],
   "source": [
    "g_data = soup.find_all(\"div\", {\"class\": \"info\"})\n",
    "#for item in g_data:\n",
    "#    print (item.text)"
   ]
  },
  {
   "cell_type": "code",
   "execution_count": 8,
   "metadata": {
    "collapsed": true
   },
   "outputs": [],
   "source": [
    "#sets of list\n",
    "#for item in g_data:\n",
    "#    print (item.contents)"
   ]
  },
  {
   "cell_type": "code",
   "execution_count": 9,
   "metadata": {},
   "outputs": [
    {
     "data": {
      "text/plain": [
       "'\\nfor item in g_data:\\n    # print (item.contents[0].text)\\n    print (item.contents[0].find_all(\"a\", {\"class\": \"business-name\"})[0].text)\\n    print (item.contents[1].find_all(\"p\", {\"class\":\"adr\"})[0].text)\\n    # if error because it doesn\\'t exist,\\n    try:\\n        print (item.contents[1].find_all(\"div\", {\"class\":\"phone\"})[0].text)\\n    except:\\n        pass\\n'"
      ]
     },
     "execution_count": 9,
     "metadata": {},
     "output_type": "execute_result"
    }
   ],
   "source": [
    "#first item of the list\n",
    "\"\"\"\n",
    "for item in g_data:\n",
    "    # print (item.contents[0].text)\n",
    "    print (item.contents[0].find_all(\"a\", {\"class\": \"business-name\"})[0].text)\n",
    "    print (item.contents[1].find_all(\"p\", {\"class\":\"adr\"})[0].text)\n",
    "    # if error because it doesn't exist,\n",
    "    try:\n",
    "        print (item.contents[1].find_all(\"div\", {\"class\":\"phone\"})[0].text)\n",
    "    except:\n",
    "        pass\n",
    "\"\"\""
   ]
  },
  {
   "cell_type": "code",
   "execution_count": 10,
   "metadata": {},
   "outputs": [
    {
     "name": "stdout",
     "output_type": "stream",
     "text": [
      "Name: Cafe Madeleine\n",
      "Street: 300 California St Fl Grnd1\n",
      "City: San Francisco \n",
      "State: CA\n",
      "Zip Code: 94104\n",
      "Name: Peet's Coffee & Tea\n",
      "Street: 2139 Polk St\n",
      "City: San Francisco \n",
      "State: CA\n",
      "Zip Code: 94109\n",
      "Name: Cafe Claude\n",
      "Street: 7 Claude Ln\n",
      "City: San Francisco \n",
      "State: CA\n",
      "Zip Code: 94108\n",
      "Name: Pacific Cafe\n",
      "Street: 7000 Geary Blvd\n",
      "City: San Francisco \n",
      "State: CA\n",
      "Zip Code: 94121\n",
      "Name: Cafe Tiramisu\n",
      "Street: 28 Belden Pl\n",
      "City: San Francisco \n",
      "State: CA\n",
      "Zip Code: 94104\n",
      "Name: Zuni Cafe\n",
      "Street: 1658 Market St\n",
      "City: San Francisco \n",
      "State: CA\n",
      "Zip Code: 94102\n",
      "Name: Pork Store Cafe\n",
      "Street: 1451 Haight St\n",
      "City: San Francisco \n",
      "State: CA\n",
      "Zip Code: 94117\n",
      "Name: Blue Light Cafe\n",
      "Street: 1979 Union St\n",
      "City: San Francisco \n",
      "State: CA\n",
      "Zip Code: 94123\n",
      "Name: Chaat Cafe\n",
      "Street: 320 3rd St\n",
      "City: San Francisco \n",
      "State: CA\n",
      "Zip Code: 94107\n",
      "Name: Nook\n",
      "Street: 1500 Hyde St\n",
      "City: San Francisco \n",
      "State: CA\n",
      "Zip Code: 94109\n",
      "Name: Stella Pastry Cafe\n",
      "Street: 446 Columbus Ave\n",
      "City: San Francisco \n",
      "State: CA\n",
      "Zip Code: 94133\n",
      "Name: Chloe's Cafe\n",
      "Street: 1399 Church St\n",
      "City: San Francisco \n",
      "State: CA\n",
      "Zip Code: 94114\n",
      "Name: Cafe Jacqueline\n",
      "Street: 1454 Grant Ave\n",
      "City: San Francisco \n",
      "State: CA\n",
      "Zip Code: 94133\n",
      "Name: Caffe Delucchi\n",
      "Street: 500 Columbus Ave\n",
      "City: San Francisco \n",
      "State: CA\n",
      "Zip Code: 94133\n",
      "Name: Rose's Cafe\n",
      "Street: 2298 Union St\n",
      "City: San Francisco \n",
      "State: CA\n",
      "Zip Code: 94123\n",
      "Name: Primo Patio Cafe\n",
      "Street: 214 Townsend St\n",
      "City: San Francisco \n",
      "State: CA\n",
      "Zip Code: 94107\n",
      "Name: Universal Cafe\n",
      "Street: 2814 19th St\n",
      "City: San Francisco \n",
      "State: CA\n",
      "Zip Code: 94110\n",
      "Name: Farleys\n",
      "Street: 1315 18th St\n",
      "City: San Francisco \n",
      "State: CA\n",
      "Zip Code: 94107\n",
      "Name: Sea Breeze Cafe\n",
      "Street: 3940 Judah St\n",
      "City: San Francisco \n",
      "State: CA\n",
      "Zip Code: 94122\n",
      "Name: Dolores Park Cafe\n",
      "Street: 501 Dolores St\n",
      "City: San Francisco \n",
      "State: CA\n",
      "Zip Code: 94110\n",
      "Name: Just for You\n",
      "Street: 732 22nd St\n",
      "City: San Francisco \n",
      "State: CA\n",
      "Zip Code: 94107\n",
      "Name: Brick House Cafe\n",
      "Street: 426 Brannan St\n",
      "City: San Francisco \n",
      "State: CA\n",
      "Zip Code: 94107\n",
      "Name: Cafe XO\n",
      "Street: 1799 Church St\n",
      "City: San Francisco \n",
      "State: CA\n",
      "Zip Code: 94131\n",
      "Name: Blue Bottle Coffee\n",
      "Street: 1 Ferry Building, #7\n",
      "City: San Francisco \n",
      "State: CA\n",
      "Zip Code: 94111\n",
      "Name: Trattoria Volare Caffe\n",
      "Street: 561 Columbus Ave\n",
      "City: San Francisco \n",
      "State: CA\n",
      "Zip Code: 94133\n",
      "Name: Four Barrel Coffee\n",
      "Street: 375 Valencia St\n",
      "City: San Francisco \n",
      "State: CA\n",
      "Zip Code: 94103\n",
      "Name: Nob Hill Cafe\n",
      "Street: 1152 Taylor St\n",
      "City: San Francisco \n",
      "State: CA\n",
      "Zip Code: 94108\n",
      "Name: Cafe Capriccio\n",
      "Street: 2200 Mason St\n",
      "City: San Francisco \n",
      "State: CA\n",
      "Zip Code: 94133\n",
      "Name: Cafe Flore\n",
      "Street: 2298 Market St\n",
      "City: San Francisco \n",
      "State: CA\n",
      "Zip Code: 94114\n",
      "Name: People's Cafe\n",
      "Street: 1419 Haight St\n",
      "City: San Francisco \n",
      "State: CA\n",
      "Zip Code: 94117\n"
     ]
    }
   ],
   "source": [
    "for item in g_data:\n",
    "    print (\"Name: \" + item.contents[0].find_all(\"a\", {\"class\": \"business-name\"})[0].text)\n",
    "    print (\"Street: \" + item.contents[1].find_all(\"span\", {\"class\": \"street-address\"})[0].text)\n",
    "    print (\"City: \" + item.contents[1].find_all(\"span\", {\"class\": \"locality\"})[0].text.replace(',',''))\n",
    "    print (\"State: \" + item.contents[1].find_all(\"span\", {\"itemprop\": \"addressRegion\"})[0].text)\n",
    "    print (\"Zip Code: \" + item.contents[1].find_all(\"span\", {\"itemprop\": \"postalCode\"})[0].text)"
   ]
  },
  {
   "cell_type": "code",
   "execution_count": 11,
   "metadata": {},
   "outputs": [
    {
     "ename": "IndexError",
     "evalue": "list index out of range",
     "output_type": "error",
     "traceback": [
      "\u001b[1;31m---------------------------------------------------------------------------\u001b[0m",
      "\u001b[1;31mIndexError\u001b[0m                                Traceback (most recent call last)",
      "\u001b[1;32m<ipython-input-11-f5caf10c275c>\u001b[0m in \u001b[0;36m<module>\u001b[1;34m()\u001b[0m\n\u001b[0;32m     16\u001b[0m     \u001b[1;32mfor\u001b[0m \u001b[0mitem\u001b[0m \u001b[1;32min\u001b[0m \u001b[0mg_data\u001b[0m\u001b[1;33m:\u001b[0m\u001b[1;33m\u001b[0m\u001b[0m\n\u001b[0;32m     17\u001b[0m         d.append({'Name': item.contents[0].find_all(\"a\", {\"class\": \"business-name\"})[0].text,\n\u001b[1;32m---> 18\u001b[1;33m               \u001b[1;34m'Street'\u001b[0m\u001b[1;33m:\u001b[0m \u001b[0mitem\u001b[0m\u001b[1;33m.\u001b[0m\u001b[0mcontents\u001b[0m\u001b[1;33m[\u001b[0m\u001b[1;36m1\u001b[0m\u001b[1;33m]\u001b[0m\u001b[1;33m.\u001b[0m\u001b[0mfind_all\u001b[0m\u001b[1;33m(\u001b[0m\u001b[1;34m\"span\"\u001b[0m\u001b[1;33m,\u001b[0m \u001b[1;33m{\u001b[0m\u001b[1;34m\"class\"\u001b[0m\u001b[1;33m:\u001b[0m \u001b[1;34m\"street-address\"\u001b[0m\u001b[1;33m}\u001b[0m\u001b[1;33m)\u001b[0m\u001b[1;33m[\u001b[0m\u001b[1;36m0\u001b[0m\u001b[1;33m]\u001b[0m\u001b[1;33m.\u001b[0m\u001b[0mtext\u001b[0m\u001b[1;33m,\u001b[0m\u001b[1;33m\u001b[0m\u001b[0m\n\u001b[0m\u001b[0;32m     19\u001b[0m               \u001b[1;34m'City'\u001b[0m\u001b[1;33m:\u001b[0m \u001b[0mitem\u001b[0m\u001b[1;33m.\u001b[0m\u001b[0mcontents\u001b[0m\u001b[1;33m[\u001b[0m\u001b[1;36m1\u001b[0m\u001b[1;33m]\u001b[0m\u001b[1;33m.\u001b[0m\u001b[0mfind_all\u001b[0m\u001b[1;33m(\u001b[0m\u001b[1;34m\"span\"\u001b[0m\u001b[1;33m,\u001b[0m \u001b[1;33m{\u001b[0m\u001b[1;34m\"class\"\u001b[0m\u001b[1;33m:\u001b[0m \u001b[1;34m\"locality\"\u001b[0m\u001b[1;33m}\u001b[0m\u001b[1;33m)\u001b[0m\u001b[1;33m[\u001b[0m\u001b[1;36m0\u001b[0m\u001b[1;33m]\u001b[0m\u001b[1;33m.\u001b[0m\u001b[0mtext\u001b[0m\u001b[1;33m.\u001b[0m\u001b[0mreplace\u001b[0m\u001b[1;33m(\u001b[0m\u001b[1;34m','\u001b[0m\u001b[1;33m,\u001b[0m\u001b[1;34m''\u001b[0m\u001b[1;33m)\u001b[0m\u001b[1;33m,\u001b[0m\u001b[1;33m\u001b[0m\u001b[0m\n\u001b[0;32m     20\u001b[0m               \u001b[1;34m'State'\u001b[0m\u001b[1;33m:\u001b[0m \u001b[0mitem\u001b[0m\u001b[1;33m.\u001b[0m\u001b[0mcontents\u001b[0m\u001b[1;33m[\u001b[0m\u001b[1;36m1\u001b[0m\u001b[1;33m]\u001b[0m\u001b[1;33m.\u001b[0m\u001b[0mfind_all\u001b[0m\u001b[1;33m(\u001b[0m\u001b[1;34m\"span\"\u001b[0m\u001b[1;33m,\u001b[0m \u001b[1;33m{\u001b[0m\u001b[1;34m\"itemprop\"\u001b[0m\u001b[1;33m:\u001b[0m \u001b[1;34m\"addressRegion\"\u001b[0m\u001b[1;33m}\u001b[0m\u001b[1;33m)\u001b[0m\u001b[1;33m[\u001b[0m\u001b[1;36m0\u001b[0m\u001b[1;33m]\u001b[0m\u001b[1;33m.\u001b[0m\u001b[0mtext\u001b[0m\u001b[1;33m,\u001b[0m\u001b[1;33m\u001b[0m\u001b[0m\n",
      "\u001b[1;31mIndexError\u001b[0m: list index out of range"
     ]
    }
   ],
   "source": [
    "d = []\n",
    "\n",
    "for item in g_data:\n",
    "    d.append({'Name': item.contents[0].find_all(\"a\", {\"class\": \"business-name\"})[0].text,\n",
    "              'Street': item.contents[1].find_all(\"span\", {\"class\": \"street-address\"})[0].text, \n",
    "              'City': item.contents[1].find_all(\"span\", {\"class\": \"locality\"})[0].text.replace(',',''),\n",
    "              'State': item.contents[1].find_all(\"span\", {\"itemprop\": \"addressRegion\"})[0].text,\n",
    "              'Zip Code': item.contents[1].find_all(\"span\", {\"itemprop\": \"postalCode\"})[0].text,\n",
    "              'Phone Number': item.contents[1].find_all(\"div\", {\"class\":\"phone\"})[0].text})\n",
    "    \n",
    "for x in range(2, 34):\n",
    "    url = \"https://www.yellowpages.com/search?search_terms=Coffee&geo_location_terms=San%20Francisco%2C%20CA&page=\" + str(x)\n",
    "    r = requests.get(url)\n",
    "    soup = BeautifulSoup(r.content, \"html.parser\")\n",
    "    g_data = soup.find_all(\"div\", {\"class\": \"info\"})\n",
    "    for item in g_data:\n",
    "        d.append({'Name': item.contents[0].find_all(\"a\", {\"class\": \"business-name\"})[0].text,\n",
    "              'Street': item.contents[1].find_all(\"span\", {\"class\": \"street-address\"})[0].text, \n",
    "              'City': item.contents[1].find_all(\"span\", {\"class\": \"locality\"})[0].text.replace(',',''),\n",
    "              'State': item.contents[1].find_all(\"span\", {\"itemprop\": \"addressRegion\"})[0].text,\n",
    "              'Zip Code': item.contents[1].find_all(\"span\", {\"itemprop\": \"postalCode\"})[0].text,\n",
    "              'Phone Number': item.contents[1].find_all(\"div\", {\"class\":\"phone\"})[0].text})"
   ]
  },
  {
   "cell_type": "code",
   "execution_count": 12,
   "metadata": {},
   "outputs": [
    {
     "data": {
      "text/html": [
       "<div>\n",
       "<style>\n",
       "    .dataframe thead tr:only-child th {\n",
       "        text-align: right;\n",
       "    }\n",
       "\n",
       "    .dataframe thead th {\n",
       "        text-align: left;\n",
       "    }\n",
       "\n",
       "    .dataframe tbody tr th {\n",
       "        vertical-align: top;\n",
       "    }\n",
       "</style>\n",
       "<table border=\"1\" class=\"dataframe\">\n",
       "  <thead>\n",
       "    <tr style=\"text-align: right;\">\n",
       "      <th></th>\n",
       "      <th>City</th>\n",
       "      <th>Name</th>\n",
       "      <th>Phone Number</th>\n",
       "      <th>State</th>\n",
       "      <th>Street</th>\n",
       "      <th>Zip Code</th>\n",
       "    </tr>\n",
       "  </thead>\n",
       "  <tbody>\n",
       "    <tr>\n",
       "      <th>0</th>\n",
       "      <td>San Francisco</td>\n",
       "      <td>Cafe Madeleine</td>\n",
       "      <td>(415) 362-3332</td>\n",
       "      <td>CA</td>\n",
       "      <td>300 California St Fl Grnd1</td>\n",
       "      <td>94104</td>\n",
       "    </tr>\n",
       "    <tr>\n",
       "      <th>1</th>\n",
       "      <td>San Francisco</td>\n",
       "      <td>Peet's Coffee &amp; Tea</td>\n",
       "      <td>(415) 474-1871</td>\n",
       "      <td>CA</td>\n",
       "      <td>2139 Polk St</td>\n",
       "      <td>94109</td>\n",
       "    </tr>\n",
       "    <tr>\n",
       "      <th>2</th>\n",
       "      <td>San Francisco</td>\n",
       "      <td>Cafe Claude</td>\n",
       "      <td>(415) 392-3505</td>\n",
       "      <td>CA</td>\n",
       "      <td>7 Claude Ln</td>\n",
       "      <td>94108</td>\n",
       "    </tr>\n",
       "    <tr>\n",
       "      <th>3</th>\n",
       "      <td>San Francisco</td>\n",
       "      <td>Pacific Cafe</td>\n",
       "      <td>(415) 387-7091</td>\n",
       "      <td>CA</td>\n",
       "      <td>7000 Geary Blvd</td>\n",
       "      <td>94121</td>\n",
       "    </tr>\n",
       "    <tr>\n",
       "      <th>4</th>\n",
       "      <td>San Francisco</td>\n",
       "      <td>Cafe Tiramisu</td>\n",
       "      <td>(415) 421-7044</td>\n",
       "      <td>CA</td>\n",
       "      <td>28 Belden Pl</td>\n",
       "      <td>94104</td>\n",
       "    </tr>\n",
       "  </tbody>\n",
       "</table>\n",
       "</div>"
      ],
      "text/plain": [
       "             City                 Name    Phone Number State  \\\n",
       "0  San Francisco        Cafe Madeleine  (415) 362-3332    CA   \n",
       "1  San Francisco   Peet's Coffee & Tea  (415) 474-1871    CA   \n",
       "2  San Francisco           Cafe Claude  (415) 392-3505    CA   \n",
       "3  San Francisco          Pacific Cafe  (415) 387-7091    CA   \n",
       "4  San Francisco         Cafe Tiramisu  (415) 421-7044    CA   \n",
       "\n",
       "                       Street Zip Code  \n",
       "0  300 California St Fl Grnd1    94104  \n",
       "1                2139 Polk St    94109  \n",
       "2                 7 Claude Ln    94108  \n",
       "3             7000 Geary Blvd    94121  \n",
       "4                28 Belden Pl    94104  "
      ]
     },
     "execution_count": 12,
     "metadata": {},
     "output_type": "execute_result"
    }
   ],
   "source": [
    "df = pd.DataFrame(d)\n",
    "df.head()"
   ]
  },
  {
   "cell_type": "code",
   "execution_count": 13,
   "metadata": {},
   "outputs": [
    {
     "data": {
      "text/plain": [
       "808"
      ]
     },
     "execution_count": 13,
     "metadata": {},
     "output_type": "execute_result"
    }
   ],
   "source": [
    "df = df[['Name', 'Street', 'City', 'State', 'Zip Code', 'Phone Number']]="
   ]
  },
  {
   "cell_type": "code",
   "execution_count": 15,
   "metadata": {},
   "outputs": [],
   "source": [
    "df.to_csv('BeautifulSoupPractice.csv', index=False)"
   ]
  },
  {
   "cell_type": "code",
   "execution_count": null,
   "metadata": {
    "collapsed": true
   },
   "outputs": [],
   "source": []
  }
 ],
 "metadata": {
  "kernelspec": {
   "display_name": "Python 3",
   "language": "python",
   "name": "python3"
  },
  "language_info": {
   "codemirror_mode": {
    "name": "ipython",
    "version": 3
   },
   "file_extension": ".py",
   "mimetype": "text/x-python",
   "name": "python",
   "nbconvert_exporter": "python",
   "pygments_lexer": "ipython3",
   "version": "3.6.1"
  }
 },
 "nbformat": 4,
 "nbformat_minor": 2
}
