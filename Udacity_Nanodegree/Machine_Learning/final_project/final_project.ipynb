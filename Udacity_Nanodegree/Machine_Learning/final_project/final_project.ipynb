{
 "cells": [
  {
   "cell_type": "markdown",
   "metadata": {},
   "source": [
    "# Identify Fraud from Enron Email \n",
    "\n",
    "## Introduction\n",
    "\n",
    "### Background\n",
    "Enron Corporation was an American energy, commodities, and services company based in Houston, Taxas. At the end of 2001, it was revealed that its reported financial condition was sustained by institutionalized, systematic, and creatively planned accoung fraud. In the resulting Federal investigation, a significant amount of typically confidential information entered into the public record. I will use my skills to analyze the data by building a person of interest identifier based on financial and email data.\n",
    "\n",
    "### Data Exploration\n",
    "\n",
    "The data contains many financial features and email features in the form of dictionary, where each key-value pair corresponds to one person.\n",
    "\n",
    "Financial features contain: ['salary', 'deferral_payments', 'total_payments', 'loan_advances', 'bonus', 'restricted_stock_deferred', 'deferred_income', 'total_stock_value', 'expenses', 'exercised_stock_options', 'other', 'long_term_incentive', 'restricted_stock', 'director_fees'] (all units are in US dollars)\n",
    "\n",
    "Email features contain: ['to_messages', 'email_address', 'from_poi_to_this_person', 'from_messages', 'from_this_person_to_poi', 'shared_receipt_with_poi'] (units are generally number of emails messages; notable exception is ‘email_address’, which is a text string)\n",
    "\n",
    "POI label contains: [‘poi’] (boolean, represented as integer)"
   ]
  },
  {
   "cell_type": "code",
   "execution_count": 1,
   "metadata": {},
   "outputs": [
    {
     "name": "stdout",
     "output_type": "stream",
     "text": [
      "Populating the interactive namespace from numpy and matplotlib\n",
      "146\n",
      "21\n"
     ]
    },
    {
     "name": "stderr",
     "output_type": "stream",
     "text": [
      "C:\\Users\\admin\\Anaconda2\\lib\\site-packages\\sklearn\\cross_validation.py:44: DeprecationWarning: This module was deprecated in version 0.18 in favor of the model_selection module into which all the refactored classes and functions are moved. Also note that the interface of the new CV iterators are different from that of this module. This module will be removed in 0.20.\n",
      "  \"This module will be removed in 0.20.\", DeprecationWarning)\n"
     ]
    },
    {
     "data": {
      "text/plain": [
       "('METTS MARK',\n",
       " {'bonus': 600000,\n",
       "  'deferral_payments': 'NaN',\n",
       "  'deferred_income': 'NaN',\n",
       "  'director_fees': 'NaN',\n",
       "  'email_address': 'mark.metts@enron.com',\n",
       "  'exercised_stock_options': 'NaN',\n",
       "  'expenses': 94299,\n",
       "  'from_messages': 29,\n",
       "  'from_poi_to_this_person': 38,\n",
       "  'from_this_person_to_poi': 1,\n",
       "  'loan_advances': 'NaN',\n",
       "  'long_term_incentive': 'NaN',\n",
       "  'other': 1740,\n",
       "  'poi': False,\n",
       "  'restricted_stock': 585062,\n",
       "  'restricted_stock_deferred': 'NaN',\n",
       "  'salary': 365788,\n",
       "  'shared_receipt_with_poi': 702,\n",
       "  'to_messages': 807,\n",
       "  'total_payments': 1061827,\n",
       "  'total_stock_value': 585062})"
      ]
     },
     "execution_count": 1,
     "metadata": {},
     "output_type": "execute_result"
    }
   ],
   "source": [
    "import sys\n",
    "import pickle\n",
    "import numpy as np\n",
    "import matplotlib.pyplot as plt\n",
    "%pylab inline\n",
    "\n",
    "sys.path.append(\"../tools/\")\n",
    "\n",
    "from feature_format import featureFormat, targetFeatureSplit\n",
    "from tester import dump_classifier_and_data, test_classifier\n",
    "\n",
    "with open(\"final_project_dataset.pkl\", \"r\") as data_file:\n",
    "    data_dict = pickle.load(data_file)\n",
    "    \n",
    "print len(data_dict)\n",
    "print len(data_dict[data_dict.keys()[0]])\n",
    "\n",
    "els = list(data_dict.items())\n",
    "els[0]"
   ]
  },
  {
   "cell_type": "markdown",
   "metadata": {},
   "source": [
    "There are 146 rows in the dataset and each data has in the total of 21 of financial and email features in the form of dictionary as shown above."
   ]
  },
  {
   "cell_type": "code",
   "execution_count": 2,
   "metadata": {},
   "outputs": [
    {
     "name": "stdout",
     "output_type": "stream",
     "text": [
      "HANNON KEVIN P\n",
      "COLWELL WESLEY\n",
      "RIEKER PAULA H\n",
      "KOPPER MICHAEL J\n",
      "SHELBY REX\n",
      "DELAINEY DAVID W\n",
      "LAY KENNETH L\n",
      "BOWEN JR RAYMOND M\n",
      "BELDEN TIMOTHY N\n",
      "FASTOW ANDREW S\n",
      "CALGER CHRISTOPHER F\n",
      "RICE KENNETH D\n",
      "SKILLING JEFFREY K\n",
      "YEAGER F SCOTT\n",
      "HIRKO JOSEPH\n",
      "KOENIG MARK E\n",
      "CAUSEY RICHARD A\n",
      "GLISAN JR BEN F\n"
     ]
    },
    {
     "data": {
      "text/plain": [
       "18"
      ]
     },
     "execution_count": 2,
     "metadata": {},
     "output_type": "execute_result"
    }
   ],
   "source": [
    "count = 0\n",
    "for x in data_dict.iteritems():\n",
    "    key, value = x\n",
    "    for k, v in value.iteritems():\n",
    "        if k == 'poi':\n",
    "            if v == 1:\n",
    "                count = count + 1\n",
    "                print key\n",
    "                \n",
    "count"
   ]
  },
  {
   "cell_type": "markdown",
   "metadata": {},
   "source": [
    "There are in total of 18 people of interest with the names listed above."
   ]
  },
  {
   "cell_type": "code",
   "execution_count": 3,
   "metadata": {},
   "outputs": [
    {
     "name": "stdout",
     "output_type": "stream",
     "text": [
      "95 111\n"
     ]
    }
   ],
   "source": [
    "count_salary = 0\n",
    "count_email = 0\n",
    "\n",
    "for x in data_dict.iteritems():\n",
    "    key, value = x\n",
    "    for k, v in value.iteritems():\n",
    "        if k == 'salary':\n",
    "            if v != 'NaN':\n",
    "                count_salary = count_salary + 1\n",
    "        if k == 'email_address':\n",
    "            if v != 'NaN':\n",
    "                count_email = count_email + 1\n",
    "                \n",
    "            \n",
    "                \n",
    "print count_salary, count_email"
   ]
  },
  {
   "cell_type": "markdown",
   "metadata": {},
   "source": [
    "There are 95 people who do not have data in the column of salary, and 111 people in the column of email address."
   ]
  },
  {
   "cell_type": "markdown",
   "metadata": {},
   "source": [
    "## Investigate the data\n",
    "\n",
    "### Outliers\n",
    "\n",
    "Before starting to test classifiers, I will try to find if there is any outlier, and if there is, try to find out what causes it and how I can handle it.\n",
    "\n",
    "First thing is to see the salary and bonus."
   ]
  },
  {
   "cell_type": "code",
   "execution_count": 4,
   "metadata": {},
   "outputs": [
    {
     "data": {
      "text/plain": [
       "<matplotlib.text.Text at 0x98be978>"
      ]
     },
     "execution_count": 4,
     "metadata": {},
     "output_type": "execute_result"
    },
    {
     "data": {
      "image/png": "[encoded data removed]",
      "text/plain": [
       "<matplotlib.figure.Figure at 0x5d90cf8>"
      ]
     },
     "metadata": {},
     "output_type": "display_data"
    }
   ],
   "source": [
    "features_list = ['poi','salary','bonus','total_payments','exercised_stock_options']\n",
    "data = featureFormat(data_dict, features_list)\n",
    "### plot features\n",
    "for point in data:\n",
    "    salary = point[1]\n",
    "    bonus = point[2]\n",
    "    plt.scatter( salary, bonus )\n",
    "\n",
    "plt.xlabel(\"salary\")\n",
    "plt.ylabel(\"bonus\")"
   ]
  },
  {
   "cell_type": "markdown",
   "metadata": {},
   "source": [
    "By looking up the data, I could find out that Total is just a spreadsheet quirk, so I will take it out and create plot again."
   ]
  },
  {
   "cell_type": "code",
   "execution_count": 5,
   "metadata": {},
   "outputs": [
    {
     "data": {
      "text/plain": [
       "<matplotlib.text.Text at 0x9ea9dd8>"
      ]
     },
     "execution_count": 5,
     "metadata": {},
     "output_type": "execute_result"
    },
    {
     "data": {
      "image/png": "[encoded data removed]",
      "text/plain": [
       "<matplotlib.figure.Figure at 0x69c4b00>"
      ]
     },
     "metadata": {},
     "output_type": "display_data"
    }
   ],
   "source": [
    "data_dict.pop('TOTAL', 0)\n",
    "data = featureFormat(data_dict, features_list)\n",
    "\n",
    "for point in data:\n",
    "    salary = point[1]\n",
    "    bonus = point[2]\n",
    "    plt.scatter( salary, bonus )\n",
    "    \n",
    "plt.xlabel(\"salary\")\n",
    "plt.ylabel(\"bonus\")"
   ]
  },
  {
   "cell_type": "markdown",
   "metadata": {},
   "source": [
    "I can still see 4 more points that can be considered as outliers, so I will try to find them by using the python code."
   ]
  },
  {
   "cell_type": "code",
   "execution_count": 6,
   "metadata": {},
   "outputs": [
    {
     "name": "stdout",
     "output_type": "stream",
     "text": [
      "LAVORATO JOHN J bonus 8000000\n",
      "LAY KENNETH L salary 1072321\n",
      "SKILLING JEFFREY K salary 1111258\n",
      "FREVERT MARK A salary 1060932\n"
     ]
    }
   ],
   "source": [
    "for k, v in data_dict.iteritems():\n",
    "    for key, value in v.iteritems():\n",
    "        if key == 'salary':\n",
    "            if value > 1000000:\n",
    "                if value != 'NaN':\n",
    "                    print k, key, value\n",
    "        elif key == 'bonus':\n",
    "            if value > 7000000:\n",
    "                if value != 'NaN':\n",
    "                    print k, key, value"
   ]
  },
  {
   "cell_type": "markdown",
   "metadata": {},
   "source": [
    "I could find outliers' names, which include Jeffrey K Skilling and Kenneth L Lay who are also in the list of POI.\n",
    "\n",
    "Next thing is to see the total payment and exercised stock option."
   ]
  },
  {
   "cell_type": "code",
   "execution_count": 7,
   "metadata": {},
   "outputs": [
    {
     "data": {
      "text/plain": [
       "<matplotlib.text.Text at 0xaa0cfd0>"
      ]
     },
     "execution_count": 7,
     "metadata": {},
     "output_type": "execute_result"
    },
    {
     "data": {
      "image/png": "[encoded data removed]",
      "text/plain": [
       "<matplotlib.figure.Figure at 0xa85d860>"
      ]
     },
     "metadata": {},
     "output_type": "display_data"
    }
   ],
   "source": [
    "data_dict.pop('TOTAL', 0)\n",
    "\n",
    "for point in data:\n",
    "    total_payments = point[3]\n",
    "    exercised_stock_options = point[4]\n",
    "    plt.scatter( total_payments, exercised_stock_options )\n",
    "\n",
    "plt.xlabel(\"Total Payments\")\n",
    "plt.ylabel(\"Exercised Stock Options\")"
   ]
  },
  {
   "cell_type": "markdown",
   "metadata": {},
   "source": [
    "I can see a huge outlier, even after I removed Total column."
   ]
  },
  {
   "cell_type": "code",
   "execution_count": 8,
   "metadata": {},
   "outputs": [
    {
     "name": "stdout",
     "output_type": "stream",
     "text": [
      "LAY KENNETH L total_payments 103559793\n",
      "LAY KENNETH L exercised_stock_options 34348384\n",
      "RICE KENNETH D exercised_stock_options 19794175\n",
      "SKILLING JEFFREY K exercised_stock_options 19250000\n",
      "HIRKO JOSEPH exercised_stock_options 30766064\n",
      "FREVERT MARK A total_payments 17252530\n",
      "FREVERT MARK A exercised_stock_options 10433518\n",
      "PAI LOU L exercised_stock_options 15364167\n"
     ]
    }
   ],
   "source": [
    "for k, v in data_dict.iteritems():\n",
    "    for key, value in v.iteritems():\n",
    "        if key == 'total_payments':\n",
    "            if value > 17000000:\n",
    "                if value != 'NaN':\n",
    "                    print k, key, value\n",
    "        elif key == 'exercised_stock_options':\n",
    "            if value > 10000000:\n",
    "                if value != 'NaN':\n",
    "                    print k, key, value"
   ]
  },
  {
   "cell_type": "markdown",
   "metadata": {},
   "source": [
    "I can see that the huge outlier is Kenneth L Lay, had $ 103,559,793. \n",
    "\n",
    "The next person who had the highest total payment had $ 17,253,530, showing that how relatively high that outlier is. On the other hand, there are also many outliers (though not much as that huge outlier) in the column of exercised stock options, which include Kenneth L Lay and Jeffrey K Skilling again, and others. Among them, Kenneth D Rice and Joseph Hirko is also in the list of POI. It is interesting that Mark A Frevert is in the list of outliers for total payments, exercised stock options, and salary, but he wasn't in the list of POI."
   ]
  },
  {
   "cell_type": "markdown",
   "metadata": {},
   "source": [
    "### Processing the data"
   ]
  },
  {
   "cell_type": "markdown",
   "metadata": {},
   "source": [
    "For processing the data, I will use feature scaling using MinMaxScaler. By doing so, I can transform the data and use very small standard deviations of features and preserving zero entries in sparse data. For example, the maximum of email features is less than a thousand, but the maximum of salary is more than millions, but by doing so I can compare them easily. It is processed as following:"
   ]
  },
  {
   "cell_type": "code",
   "execution_count": 9,
   "metadata": {},
   "outputs": [
    {
     "data": {
      "text/plain": [
       "86"
      ]
     },
     "execution_count": 9,
     "metadata": {},
     "output_type": "execute_result"
    }
   ],
   "source": [
    "from sklearn import preprocessing\n",
    "\n",
    "min_max_scaler = preprocessing.MinMaxScaler()\n",
    "\n",
    "stock_fromPOI = []\n",
    "for i in data_dict:\n",
    "    if (data_dict[i]['from_poi_to_this_person']=='NaN'):\n",
    "        #stock.append(0.0)\n",
    "        pass\n",
    "    else:    \n",
    "        stock_fromPOI.append(float(data_dict[i]['from_poi_to_this_person']))\n",
    "\n",
    "len(stock_fromPOI)"
   ]
  },
  {
   "cell_type": "code",
   "execution_count": 10,
   "metadata": {},
   "outputs": [
    {
     "data": {
      "text/plain": [
       "86"
      ]
     },
     "execution_count": 10,
     "metadata": {},
     "output_type": "execute_result"
    }
   ],
   "source": [
    "stock_toPOI = []\n",
    "for i in data_dict:\n",
    "    if (data_dict[i]['from_this_person_to_poi']=='NaN'):\n",
    "        #stock.append(0.0)\n",
    "        pass\n",
    "    else:    \n",
    "        stock_toPOI.append(float(data_dict[i]['from_this_person_to_poi']))\n",
    "\n",
    "len(stock_toPOI)"
   ]
  },
  {
   "cell_type": "markdown",
   "metadata": {},
   "source": [
    "Since from_this_person_to_poi and from_poi_to_this_person have same number of rows after excluding NaN values, and the number matters rather than the fact if it is from POI or to POI, I will create a new column named 'from_to_poi' and combine the number of those, and do transforming again."
   ]
  },
  {
   "cell_type": "code",
   "execution_count": 11,
   "metadata": {},
   "outputs": [
    {
     "name": "stderr",
     "output_type": "stream",
     "text": [
      "C:\\Users\\admin\\Anaconda2\\lib\\site-packages\\sklearn\\preprocessing\\data.py:321: DeprecationWarning: Passing 1d arrays as data is deprecated in 0.17 and will raise ValueError in 0.19. Reshape your data either using X.reshape(-1, 1) if your data has a single feature or X.reshape(1, -1) if it contains a single sample.\n",
      "  warnings.warn(DEPRECATION_MSG_1D, DeprecationWarning)\n",
      "C:\\Users\\admin\\Anaconda2\\lib\\site-packages\\sklearn\\preprocessing\\data.py:356: DeprecationWarning: Passing 1d arrays as data is deprecated in 0.17 and will raise ValueError in 0.19. Reshape your data either using X.reshape(-1, 1) if your data has a single feature or X.reshape(1, -1) if it contains a single sample.\n",
      "  warnings.warn(DEPRECATION_MSG_1D, DeprecationWarning)\n"
     ]
    },
    {
     "data": {
      "text/plain": [
       "array([ 0.04153355,  0.05644302,  0.08945687,  0.11608094,  0.02875399,\n",
       "        0.01277955,  0.02875399,  0.05324814,  0.26730564,  0.01277955,\n",
       "        0.04685836,  0.01810437,  0.47390841,  0.1884984 ,  0.00425985,\n",
       "        0.03301384,  0.08839191,  0.56443024,  0.04366347,  0.08626198,\n",
       "        1.        ,  0.04153355,  0.14802982,  0.0543131 ,  0.02875399,\n",
       "        0.12673056,  0.22364217,  0.30457934,  0.71884984,  0.14802982,\n",
       "        0.0372737 ,  0.05537806,  0.25665602,  0.16506922,  0.00958466,\n",
       "        0.26943557,  0.35782748,  0.11608094,  0.        ,  0.23855165,\n",
       "        0.04898829,  0.2257721 ,  0.00425985,  0.1256656 ,  0.00745474,\n",
       "        0.56123536,  0.03088392,  0.11927583,  0.03194888,  0.03833866,\n",
       "        0.        ,  0.01384452,  0.03940362,  0.01384452,  0.33972311,\n",
       "        0.08945687,  0.26411076,  0.08413206,  0.07241747,  0.03514377,\n",
       "        0.02236422,  0.0085197 ,  0.24174654,  0.07454739,  0.        ,\n",
       "        0.21192758,  0.06176784])"
      ]
     },
     "execution_count": 11,
     "metadata": {},
     "output_type": "execute_result"
    }
   ],
   "source": [
    "for i in data_dict:\n",
    "    data_dict[i]['from_to_poi'] = data_dict[i]['from_this_person_to_poi'] + data_dict[i]['from_poi_to_this_person']\n",
    "    if data_dict[i]['from_to_poi'] == 'NaNNaN':\n",
    "        data_dict[i]['from_to_poi'] = 'NaN'\n",
    "\n",
    "els = list(data_dict.items())\n",
    "els[0]\n",
    "\n",
    "stock_fromtoPOI = []\n",
    "for i in data_dict:\n",
    "    if (data_dict[i]['from_to_poi']=='NaN'):\n",
    "        pass\n",
    "    else:    \n",
    "        if (data_dict[i]['salary']=='NaN'):\n",
    "            pass\n",
    "        else:\n",
    "            stock_fromtoPOI.append(float(data_dict[i]['from_to_poi']))\n",
    "\n",
    "fromtoPOI_train_minmax = min_max_scaler.fit_transform(stock_fromtoPOI)\n",
    "fromtoPOI_train_minmax"
   ]
  },
  {
   "cell_type": "code",
   "execution_count": 12,
   "metadata": {},
   "outputs": [
    {
     "name": "stderr",
     "output_type": "stream",
     "text": [
      "C:\\Users\\admin\\Anaconda2\\lib\\site-packages\\sklearn\\preprocessing\\data.py:321: DeprecationWarning: Passing 1d arrays as data is deprecated in 0.17 and will raise ValueError in 0.19. Reshape your data either using X.reshape(-1, 1) if your data has a single feature or X.reshape(1, -1) if it contains a single sample.\n",
      "  warnings.warn(DEPRECATION_MSG_1D, DeprecationWarning)\n",
      "C:\\Users\\admin\\Anaconda2\\lib\\site-packages\\sklearn\\preprocessing\\data.py:356: DeprecationWarning: Passing 1d arrays as data is deprecated in 0.17 and will raise ValueError in 0.19. Reshape your data either using X.reshape(-1, 1) if your data has a single feature or X.reshape(1, -1) if it contains a single sample.\n",
      "  warnings.warn(DEPRECATION_MSG_1D, DeprecationWarning)\n"
     ]
    },
    {
     "data": {
      "text/plain": [
       "array([ 0.32887761,  0.21859935,  0.33307286,  0.17700519,  0.11725714,\n",
       "        0.25937786,  0.22332845,  0.23137684,  0.25933555,  0.22612648,\n",
       "        0.25934995,  0.32104798,  0.24394097,  0.27335091,  0.16875064,\n",
       "        0.19189021,  0.22391813,  0.20782945,  0.19023642,  0.24601519,\n",
       "        0.30502052,  0.        ,  0.24181094,  0.38558726,  0.19028683,\n",
       "        0.1851346 ,  0.45903468,  0.32820241,  0.32831494,  0.96494629,\n",
       "        0.29582879,  0.23671273,  0.33638314,  0.25038599,  0.17886514,\n",
       "        0.08675247,  0.19222691,  0.18924973,  0.19951368,  0.21580492,\n",
       "        0.37825548,  0.24723505,  0.28251383,  1.        ,  0.58927907,\n",
       "        0.36358292,  0.23363651,  0.18138409,  0.22296834,  0.2352687 ,\n",
       "        0.22285221,  0.2059875 ,  0.20838401,  0.19853238,  0.22472747,\n",
       "        0.44283977,  0.95469314,  0.27378124,  0.27860487,  0.07633998,\n",
       "        0.22224093,  0.31420235,  0.29715038,  0.37335172,  0.23833411,\n",
       "        0.25038599,  0.24712162])"
      ]
     },
     "execution_count": 12,
     "metadata": {},
     "output_type": "execute_result"
    }
   ],
   "source": [
    "stock = []\n",
    "for i in data_dict:\n",
    "    if (data_dict[i]['salary']=='NaN'):\n",
    "        pass\n",
    "    else:\n",
    "        if (data_dict[i]['from_to_poi']=='NaN'):\n",
    "            pass\n",
    "        else:\n",
    "            stock.append(float(data_dict[i]['salary']))\n",
    "\n",
    "salary_train_minmax = min_max_scaler.fit_transform(stock)\n",
    "salary_train_minmax"
   ]
  },
  {
   "cell_type": "code",
   "execution_count": 13,
   "metadata": {},
   "outputs": [
    {
     "data": {
      "text/plain": [
       "<matplotlib.text.Text at 0xb1984e0>"
      ]
     },
     "execution_count": 13,
     "metadata": {},
     "output_type": "execute_result"
    },
    {
     "data": {
      "image/png": "[encoded data removed]",
      "text/plain": [
       "<matplotlib.figure.Figure at 0xaf2b908>"
      ]
     },
     "metadata": {},
     "output_type": "display_data"
    }
   ],
   "source": [
    "plt.scatter(fromtoPOI_train_minmax, salary_train_minmax)\n",
    "\n",
    "plt.xlabel(\"Number of emails from/to poi\")\n",
    "plt.ylabel(\"Salary\")"
   ]
  },
  {
   "cell_type": "markdown",
   "metadata": {},
   "source": [
    "I can see some relations but not strong enough to consider, so at this time I will add 'shared_receipt_with_poi' as well."
   ]
  },
  {
   "cell_type": "code",
   "execution_count": 14,
   "metadata": {},
   "outputs": [
    {
     "name": "stderr",
     "output_type": "stream",
     "text": [
      "C:\\Users\\admin\\Anaconda2\\lib\\site-packages\\sklearn\\preprocessing\\data.py:321: DeprecationWarning: Passing 1d arrays as data is deprecated in 0.17 and will raise ValueError in 0.19. Reshape your data either using X.reshape(-1, 1) if your data has a single feature or X.reshape(1, -1) if it contains a single sample.\n",
      "  warnings.warn(DEPRECATION_MSG_1D, DeprecationWarning)\n",
      "C:\\Users\\admin\\Anaconda2\\lib\\site-packages\\sklearn\\preprocessing\\data.py:356: DeprecationWarning: Passing 1d arrays as data is deprecated in 0.17 and will raise ValueError in 0.19. Reshape your data either using X.reshape(-1, 1) if your data has a single feature or X.reshape(1, -1) if it contains a single sample.\n",
      "  warnings.warn(DEPRECATION_MSG_1D, DeprecationWarning)\n"
     ]
    },
    {
     "data": {
      "text/plain": [
       "<matplotlib.text.Text at 0xb3e8898>"
      ]
     },
     "execution_count": 14,
     "metadata": {},
     "output_type": "execute_result"
    },
    {
     "data": {
      "image/png": "[encoded data removed]",
      "text/plain": [
       "<matplotlib.figure.Figure at 0xaa20588>"
      ]
     },
     "metadata": {},
     "output_type": "display_data"
    }
   ],
   "source": [
    "for i in data_dict:\n",
    "    data_dict[i]['communication_with_poi'] = data_dict[i]['from_to_poi'] + data_dict[i]['shared_receipt_with_poi']\n",
    "    if data_dict[i]['communication_with_poi'] == 'NaNNaN':\n",
    "        data_dict[i]['communication_with_poi'] = 'NaN'\n",
    "\n",
    "stock_POI = []\n",
    "for i in data_dict:\n",
    "    if data_dict[i]['communication_with_poi']=='NaN':\n",
    "        pass\n",
    "    else:    \n",
    "        if (data_dict[i]['salary']=='NaN'):\n",
    "            pass\n",
    "        else:\n",
    "            stock_POI.append(float(data_dict[i]['communication_with_poi']))\n",
    "\n",
    "POI_train_minmax = min_max_scaler.fit_transform(stock_POI)\n",
    "\n",
    "plt.scatter(POI_train_minmax, salary_train_minmax)\n",
    "\n",
    "plt.xlabel(\"Communication with poi\")\n",
    "plt.ylabel(\"Salary\")"
   ]
  },
  {
   "cell_type": "markdown",
   "metadata": {},
   "source": [
    "Now I could see somewhat a stronger relation. I will do a simple test if it works"
   ]
  },
  {
   "cell_type": "code",
   "execution_count": 15,
   "metadata": {},
   "outputs": [
    {
     "name": "stdout",
     "output_type": "stream",
     "text": [
      "Accuracy = 0.768115942029\n",
      "Precision = 0.222222222222\n",
      "Recall = 0.181818181818\n"
     ]
    }
   ],
   "source": [
    "from sklearn.metrics import accuracy_score\n",
    "from sklearn.metrics import precision_score\n",
    "from sklearn.metrics import recall_score\n",
    "\n",
    "features_list = ['poi', 'communication_with_poi']\n",
    "data = featureFormat(data_dict, features_list)\n",
    "\n",
    "labels, features = targetFeatureSplit(data)\n",
    "from sklearn import cross_validation\n",
    "features_train, features_test, labels_train, labels_test = cross_validation.train_test_split(features, labels, test_size=0.8, random_state=42)\n",
    "\n",
    "from sklearn.neighbors import KNeighborsClassifier\n",
    "clf = KNeighborsClassifier()\n",
    "clf = clf.fit(features_train, labels_train)\n",
    "pred = clf.predict(features_test)\n",
    "\n",
    "print 'Accuracy =', accuracy_score(pred, labels_test)\n",
    "print 'Precision =', precision_score(labels_test,pred)\n",
    "print 'Recall =', recall_score(labels_test,pred)"
   ]
  },
  {
   "cell_type": "code",
   "execution_count": 16,
   "metadata": {},
   "outputs": [
    {
     "name": "stdout",
     "output_type": "stream",
     "text": [
      "Accuracy = 0.753623188406\n",
      "Precision = 0.2\n",
      "Recall = 0.181818181818\n"
     ]
    }
   ],
   "source": [
    "features_list = ['poi', 'from_poi_to_this_person','from_this_person_to_poi','shared_receipt_with_poi']\n",
    "data = featureFormat(data_dict, features_list)\n",
    "\n",
    "labels, features = targetFeatureSplit(data)\n",
    "features_train, features_test, labels_train, labels_test = cross_validation.train_test_split(features, labels, test_size=0.8, random_state=42)\n",
    "\n",
    "clf = KNeighborsClassifier()\n",
    "clf = clf.fit(features_train, labels_train)\n",
    "pred = clf.predict(features_test)\n",
    "\n",
    "print 'Accuracy =', accuracy_score(pred, labels_test)\n",
    "print 'Precision =', precision_score(labels_test,pred)\n",
    "print 'Recall =', recall_score(labels_test,pred)"
   ]
  },
  {
   "cell_type": "markdown",
   "metadata": {},
   "source": [
    "I can see a slightly higher accuracy and precision from new feature, thus it has a good impact on my algorithm."
   ]
  },
  {
   "cell_type": "markdown",
   "metadata": {},
   "source": [
    "## Pick and Tune an Algorithm\n",
    "\n",
    "There are many kinds of algorithm, and I will try each of them and see which one has the best accuracy.\n",
    "\n",
    "At first, I pick all the possible features, excluding poi and those that is combined in 'communication_with_poi' above, in total of 14, and see importances of each features, then select from them."
   ]
  },
  {
   "cell_type": "code",
   "execution_count": 17,
   "metadata": {},
   "outputs": [
    {
     "name": "stdout",
     "output_type": "stream",
     "text": [
      "salary : 0.16\n",
      "bonus : 0.14\n",
      "communication_with_poi : 0.14\n",
      "deferral_payments : 0.12\n",
      "total_payments : 0.1\n",
      "loan_advances : 0.1\n",
      "restricted_stock_deferred : 0.08\n",
      "deferred_income : 0.06\n",
      "total_stock_value : 0.06\n",
      "expenses : 0.02\n",
      "exercised_stock_options : 0.02\n",
      "long_term_incentive : 0.0\n",
      "restricted_stock : 0.0\n",
      "director_fees : 0.0\n"
     ]
    }
   ],
   "source": [
    "features_list = ['poi', 'salary', 'bonus', 'communication_with_poi', 'deferral_payments', 'total_payments', 'loan_advances', 'restricted_stock_deferred',\n",
    "                 'deferred_income', 'total_stock_value', 'expenses', 'exercised_stock_options', 'long_term_incentive', 'restricted_stock', 'director_fees']\n",
    "\n",
    "data = featureFormat(data_dict, features_list)\n",
    "\n",
    "labels, features = targetFeatureSplit(data)\n",
    "\n",
    "from sklearn.feature_selection import SelectKBest\n",
    "\n",
    "features_train, features_test, labels_train, labels_test = cross_validation.train_test_split(features, labels, test_size=0.1, random_state=42)\n",
    "\n",
    "from sklearn.ensemble import AdaBoostClassifier\n",
    "clf = AdaBoostClassifier()\n",
    "clf = clf.fit(features_train, labels_train)\n",
    "\n",
    "importances = clf.feature_importances_\n",
    "\n",
    "indices = np.argsort(importances)[::-1]\n",
    "\n",
    "for i in range(14):\n",
    "    print \"{} : {}\".format(features_list[i+1],importances[indices[i]])"
   ]
  },
  {
   "cell_type": "markdown",
   "metadata": {},
   "source": [
    "None of features had higher than 0.2 importance. \n",
    "\n",
    "Higher importance means how much that specific feature affects the decision to flag as POI or not. For example, salary with 0.16 importance affect x2 more than restricted stock deferred. Other example is, long term incentive, restricted stock, and director fees with 0 importance affect nothing or very insignificantly for the decision.\n",
    "\n",
    "As shown above, salary is the most important feature, and bonus is the second most important feature. Communication with POI, my own defined attribute, and the sum of from_poi_to_this_person, from_this_person_to_poi, and shared_receipt_with_poi, is the third most important feature.\n",
    "\n",
    "Back to the feature selection, I would pick the top 4 features, which have >.1 importance. Simply calculating combination of those 4 features affect more than (0.16+0.14+0.14+0.12+0.1+0.1) = 0.76 importance, more than three quaters."
   ]
  },
  {
   "cell_type": "code",
   "execution_count": 18,
   "metadata": {
    "collapsed": true
   },
   "outputs": [],
   "source": [
    "features_list = ['poi', 'salary', 'bonus', 'communication_with_poi', 'deferral_payments', 'total_payments', 'loan_advances']"
   ]
  },
  {
   "cell_type": "markdown",
   "metadata": {},
   "source": [
    "Now I will test various kind of classifiers."
   ]
  },
  {
   "cell_type": "code",
   "execution_count": 19,
   "metadata": {},
   "outputs": [
    {
     "name": "stdout",
     "output_type": "stream",
     "text": [
      "0.933333333333\n"
     ]
    }
   ],
   "source": [
    "from sklearn.naive_bayes import GaussianNB\n",
    "clf = GaussianNB()\n",
    "clf.fit(features_train, labels_train)\n",
    "pred = clf.fit(features_test, labels_test)\n",
    "acc_NB = pred.score(features_test, labels_test)\n",
    "\n",
    "print acc_NB"
   ]
  },
  {
   "cell_type": "code",
   "execution_count": 20,
   "metadata": {},
   "outputs": [
    {
     "name": "stdout",
     "output_type": "stream",
     "text": [
      "0.733333333333\n"
     ]
    }
   ],
   "source": [
    "from sklearn.svm import SVC\n",
    "\n",
    "clf = SVC()\n",
    "clf.fit(features_train, labels_train)\n",
    "pred = clf.predict(features_test)\n",
    "\n",
    "acc_SVC = accuracy_score(pred, labels_test)\n",
    "print acc_SVC"
   ]
  },
  {
   "cell_type": "code",
   "execution_count": 21,
   "metadata": {},
   "outputs": [
    {
     "name": "stdout",
     "output_type": "stream",
     "text": [
      "0.733333333333\n"
     ]
    }
   ],
   "source": [
    "from sklearn import tree\n",
    "clf = tree.DecisionTreeClassifier()\n",
    "clf.fit(features_train, labels_train)\n",
    "pred = clf.predict(features_test)\n",
    "\n",
    "acc_tree = accuracy_score(pred, labels_test)\n",
    "print acc_tree"
   ]
  },
  {
   "cell_type": "code",
   "execution_count": 22,
   "metadata": {},
   "outputs": [
    {
     "name": "stdout",
     "output_type": "stream",
     "text": [
      "0.733333333333\n"
     ]
    }
   ],
   "source": [
    "from sklearn.ensemble import RandomForestClassifier\n",
    "clf = RandomForestClassifier()\n",
    "clf = clf.fit(features_train, labels_train)\n",
    "pred = clf.predict(features_test)\n",
    "\n",
    "acc_rfc = accuracy_score(pred, labels_test)\n",
    "print acc_rfc"
   ]
  },
  {
   "cell_type": "code",
   "execution_count": 23,
   "metadata": {},
   "outputs": [
    {
     "name": "stdout",
     "output_type": "stream",
     "text": [
      "0.866666666667\n"
     ]
    }
   ],
   "source": [
    "clf = AdaBoostClassifier()\n",
    "clf = clf.fit(features_train, labels_train)\n",
    "pred = clf.predict(features_test)\n",
    "\n",
    "acc_abc = accuracy_score(pred, labels_test)\n",
    "print acc_abc"
   ]
  },
  {
   "cell_type": "code",
   "execution_count": 24,
   "metadata": {},
   "outputs": [
    {
     "name": "stdout",
     "output_type": "stream",
     "text": [
      "0.8\n"
     ]
    }
   ],
   "source": [
    "clf = KNeighborsClassifier()\n",
    "clf = clf.fit(features_train, labels_train)\n",
    "pred = clf.predict(features_test)\n",
    "\n",
    "acc_knn = accuracy_score(pred, labels_test)\n",
    "print acc_knn"
   ]
  },
  {
   "cell_type": "markdown",
   "metadata": {},
   "source": [
    "As shown above, Naive Bayes has the best accuracy. Next one is to tune and make a ranking of importance of each feature. Since GaussianNB does not have this function, I will use the next most accurate classifier: AdaBoostClassifier.\n",
    "\n",
    "Next step is to tuning my algorithm. Each of classifier has its own parameters, and it decides its behavior when trying to execute the algorithm. Well-tuned parameters may take less time to execute or give the best accuracy the classifier might have, and badly-tuned parameter may take more time or give worse accuracy.\n",
    "\n",
    "There are some ways to tune AdaBoostClassifier, including n_estimators, learning_rate, algorithm, random_state. By tuning the algorithm, I can possibly get a better accuracy."
   ]
  },
  {
   "cell_type": "code",
   "execution_count": 25,
   "metadata": {},
   "outputs": [
    {
     "name": "stdout",
     "output_type": "stream",
     "text": [
      "Accuracy = 0.933333333333\n"
     ]
    }
   ],
   "source": [
    "clf = AdaBoostClassifier(n_estimators=79, learning_rate=1, algorithm='SAMME.R', random_state=None)\n",
    "clf = clf.fit(features_train, labels_train)\n",
    "pred = clf.predict(features_test)\n",
    "\n",
    "acc_abc = accuracy_score(pred, labels_test)\n",
    "print 'Accuracy =', acc_abc"
   ]
  },
  {
   "cell_type": "markdown",
   "metadata": {},
   "source": [
    "After I tuned the classifier, I could get the better accuracy (0.867 -> 0.933)\n",
    "\n",
    "Each parameter gives me the following result:\n",
    "\n",
    "n_estimators: highest from 79 (0.933), mid from 2 to 3, 6, 8, and from 32 to 66 (0.867), then low in other numbers.\n",
    "\n",
    "learning_rate: does not affect the accuracy\n",
    "\n",
    "algorithm: higher with SAMME.R, lower with SAMME\n",
    "\n",
    "random_state: does not affect the accuracy"
   ]
  },
  {
   "cell_type": "markdown",
   "metadata": {},
   "source": [
    "## Validate and Evaluate\n",
    "\n",
    "At the end of project, I will perform validation and evaluation. \n",
    "\n",
    "Validation, in this case train_test_split, a kind of holdout validation, is a model evaluation method that split the data into two parts, one for training as training set, the other one for testing as testing set. It is important to avoid overfitting, which means, getting a perfect score so that fail to predict anything useful.\n",
    "\n",
    "Evaluation will be performed with precision score and recall score, which precision is a measure of result relevancy, while recall is a measure of how many truly relevant results are returned.\n",
    "\n",
    "Testing, validating, and evaluating can be explained with the following code and output:"
   ]
  },
  {
   "cell_type": "code",
   "execution_count": 26,
   "metadata": {},
   "outputs": [
    {
     "name": "stdout",
     "output_type": "stream",
     "text": [
      "Accuracy before turning = 0.909090909091\n",
      "Accuracy after turning = 0.954545454545\n",
      "Precision = 0.75\n",
      "Recall = 0.75\n"
     ]
    }
   ],
   "source": [
    "from sklearn.model_selection import train_test_split\n",
    "\n",
    "features_train, features_test, labels_train, labels_test = train_test_split(features, labels, test_size=0.15, random_state=42)\n",
    "\n",
    "clf_test = AdaBoostClassifier()\n",
    "clf_test.fit(features_train, labels_train)\n",
    "pred = clf_test.predict(features_test)\n",
    "\n",
    "acc_test = accuracy_score(pred, labels_test)\n",
    "print 'Accuracy before turning =', acc_test\n",
    "\n",
    "clf_test2 = AdaBoostClassifier(n_estimators=79)\n",
    "clf_test2.fit(features_train, labels_train)\n",
    "pred2 = clf_test2.predict(features_test)\n",
    "\n",
    "acc_test2 = accuracy_score(pred2, labels_test)\n",
    "print 'Accuracy after turning =', acc_test2\n",
    "\n",
    "print 'Precision =', precision_score(labels_test,pred)\n",
    "print 'Recall =', recall_score(labels_test,pred)\n",
    "\n",
    "dump_classifier_and_data(clf, data_dict, features_list)"
   ]
  },
  {
   "cell_type": "markdown",
   "metadata": {},
   "source": [
    "I can see the accuracy after tuning is higher than accuracy before tuning. Recall is true positive / (true positive + false negative), and precision is true positive / (true positive + false positive). Both are 0.75, which means (POI flagged correctly)/(POI flagged correctly + POI not flagged incorrecly) and (POI flagged correctly)/(POI flagged correctly + not POI flagged incorrectly) are 0.75, which are high enough to be considered."
   ]
  },
  {
   "cell_type": "markdown",
   "metadata": {},
   "source": [
    "# Conclusion\n",
    "\n",
    "My Adaboost algorithm with user defined attribute has made a highly accurated result of 0.933 with a few tuning parameters.\n",
    "\n",
    "I could improve my algorithm if there were a lot more data, especially those data which are flagged as POI. There are only 146 rows, and only 18 POI people, which can be considered as imbalanced data."
   ]
  },
  {
   "cell_type": "code",
   "execution_count": 30,
   "metadata": {},
   "outputs": [
    {
     "name": "stdout",
     "output_type": "stream",
     "text": [
      "AdaBoostClassifier(algorithm='SAMME.R', base_estimator=None,\n",
      "          learning_rate=1.0, n_estimators=50, random_state=None)\n",
      "\tAccuracy: 0.85633\tPrecision: 0.44364\tRecall: 0.30500\tF1: 0.36148\tF2: 0.32533\n",
      "\tTotal predictions: 15000\tTrue positives:  610\tFalse positives:  765\tFalse negatives: 1390\tTrue negatives: 12235\n",
      "\n"
     ]
    }
   ],
   "source": [
    "%run poi_id.py"
   ]
  },
  {
   "cell_type": "code",
   "execution_count": 28,
   "metadata": {},
   "outputs": [
    {
     "name": "stdout",
     "output_type": "stream",
     "text": [
      "AdaBoostClassifier(algorithm='SAMME.R', base_estimator=None,\n",
      "          learning_rate=1.0, n_estimators=50, random_state=None)\n",
      "\tAccuracy: 0.85633\tPrecision: 0.44355\tRecall: 0.30450\tF1: 0.36110\tF2: 0.32487\n",
      "\tTotal predictions: 15000\tTrue positives:  609\tFalse positives:  764\tFalse negatives: 1391\tTrue negatives: 12236\n",
      "\n"
     ]
    }
   ],
   "source": [
    "%run tester.py"
   ]
  }
 ],
 "metadata": {
  "kernelspec": {
   "display_name": "Python 2",
   "language": "python",
   "name": "python2"
  },
  "language_info": {
   "codemirror_mode": {
    "name": "ipython",
    "version": 2
   },
   "file_extension": ".py",
   "mimetype": "text/x-python",
   "name": "python",
   "nbconvert_exporter": "python",
   "pygments_lexer": "ipython2",
   "version": "2.7.13"
  }
 },
 "nbformat": 4,
 "nbformat_minor": 2
}
